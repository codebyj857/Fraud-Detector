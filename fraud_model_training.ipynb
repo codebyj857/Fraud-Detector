{
 "cells": [
  {
   "cell_type": "markdown",
   "id": "748058ec",
   "metadata": {},
   "source": [
    "# Fraud Detection Project\n",
    "A machine learning pipeline to detect fraudulent financial transactions.\n"
   ]
  },
  {
   "cell_type": "code",
   "execution_count": 6,
   "id": "d15b952a",
   "metadata": {},
   "outputs": [],
   "source": [
    "import pandas as pd\n",
    "import numpy as np\n",
    "from sklearn.model_selection import train_test_split\n",
    "from sklearn.ensemble import RandomForestClassifier\n",
    "from sklearn.metrics import classification_report\n",
    "import joblib\n"
   ]
  },
  {
   "cell_type": "markdown",
   "id": "3b40ff37",
   "metadata": {},
   "source": [
    "## Step 1: Load and Inspect the Data\n",
    "We start by loading the dataset and checking for missing values, outliers, and multicollinearity.\n"
   ]
  },
  {
   "cell_type": "code",
   "execution_count": 7,
   "id": "982d04b1",
   "metadata": {},
   "outputs": [
    {
     "data": {
      "text/html": [
       "<div>\n",
       "<style scoped>\n",
       "    .dataframe tbody tr th:only-of-type {\n",
       "        vertical-align: middle;\n",
       "    }\n",
       "\n",
       "    .dataframe tbody tr th {\n",
       "        vertical-align: top;\n",
       "    }\n",
       "\n",
       "    .dataframe thead th {\n",
       "        text-align: right;\n",
       "    }\n",
       "</style>\n",
       "<table border=\"1\" class=\"dataframe\">\n",
       "  <thead>\n",
       "    <tr style=\"text-align: right;\">\n",
       "      <th></th>\n",
       "      <th>step</th>\n",
       "      <th>type</th>\n",
       "      <th>amount</th>\n",
       "      <th>nameOrig</th>\n",
       "      <th>oldbalanceOrg</th>\n",
       "      <th>newbalanceOrig</th>\n",
       "      <th>nameDest</th>\n",
       "      <th>oldbalanceDest</th>\n",
       "      <th>newbalanceDest</th>\n",
       "      <th>isFraud</th>\n",
       "      <th>isFlaggedFraud</th>\n",
       "    </tr>\n",
       "  </thead>\n",
       "  <tbody>\n",
       "    <tr>\n",
       "      <th>0</th>\n",
       "      <td>1</td>\n",
       "      <td>PAYMENT</td>\n",
       "      <td>9839.64</td>\n",
       "      <td>C1231006815</td>\n",
       "      <td>170136.0</td>\n",
       "      <td>160296.36</td>\n",
       "      <td>M1979787155</td>\n",
       "      <td>0.0</td>\n",
       "      <td>0.0</td>\n",
       "      <td>0</td>\n",
       "      <td>0</td>\n",
       "    </tr>\n",
       "    <tr>\n",
       "      <th>1</th>\n",
       "      <td>1</td>\n",
       "      <td>PAYMENT</td>\n",
       "      <td>1864.28</td>\n",
       "      <td>C1666544295</td>\n",
       "      <td>21249.0</td>\n",
       "      <td>19384.72</td>\n",
       "      <td>M2044282225</td>\n",
       "      <td>0.0</td>\n",
       "      <td>0.0</td>\n",
       "      <td>0</td>\n",
       "      <td>0</td>\n",
       "    </tr>\n",
       "    <tr>\n",
       "      <th>2</th>\n",
       "      <td>1</td>\n",
       "      <td>TRANSFER</td>\n",
       "      <td>181.00</td>\n",
       "      <td>C1305486145</td>\n",
       "      <td>181.0</td>\n",
       "      <td>0.00</td>\n",
       "      <td>C553264065</td>\n",
       "      <td>0.0</td>\n",
       "      <td>0.0</td>\n",
       "      <td>1</td>\n",
       "      <td>0</td>\n",
       "    </tr>\n",
       "    <tr>\n",
       "      <th>3</th>\n",
       "      <td>1</td>\n",
       "      <td>CASH_OUT</td>\n",
       "      <td>181.00</td>\n",
       "      <td>C840083671</td>\n",
       "      <td>181.0</td>\n",
       "      <td>0.00</td>\n",
       "      <td>C38997010</td>\n",
       "      <td>21182.0</td>\n",
       "      <td>0.0</td>\n",
       "      <td>1</td>\n",
       "      <td>0</td>\n",
       "    </tr>\n",
       "    <tr>\n",
       "      <th>4</th>\n",
       "      <td>1</td>\n",
       "      <td>PAYMENT</td>\n",
       "      <td>11668.14</td>\n",
       "      <td>C2048537720</td>\n",
       "      <td>41554.0</td>\n",
       "      <td>29885.86</td>\n",
       "      <td>M1230701703</td>\n",
       "      <td>0.0</td>\n",
       "      <td>0.0</td>\n",
       "      <td>0</td>\n",
       "      <td>0</td>\n",
       "    </tr>\n",
       "  </tbody>\n",
       "</table>\n",
       "</div>"
      ],
      "text/plain": [
       "   step      type    amount     nameOrig  oldbalanceOrg  newbalanceOrig  \\\n",
       "0     1   PAYMENT   9839.64  C1231006815       170136.0       160296.36   \n",
       "1     1   PAYMENT   1864.28  C1666544295        21249.0        19384.72   \n",
       "2     1  TRANSFER    181.00  C1305486145          181.0            0.00   \n",
       "3     1  CASH_OUT    181.00   C840083671          181.0            0.00   \n",
       "4     1   PAYMENT  11668.14  C2048537720        41554.0        29885.86   \n",
       "\n",
       "      nameDest  oldbalanceDest  newbalanceDest  isFraud  isFlaggedFraud  \n",
       "0  M1979787155             0.0             0.0        0               0  \n",
       "1  M2044282225             0.0             0.0        0               0  \n",
       "2   C553264065             0.0             0.0        1               0  \n",
       "3    C38997010         21182.0             0.0        1               0  \n",
       "4  M1230701703             0.0             0.0        0               0  "
      ]
     },
     "execution_count": 7,
     "metadata": {},
     "output_type": "execute_result"
    }
   ],
   "source": [
    "# loading data \n",
    "df = pd.read_csv(r\"C:\\Users\\Joya Parveen\\OneDrive\\Desktop\\fraud-detector\\data\\Fraud.csv\")\n",
    "\n",
    "# Preview the data\n",
    "df.head()\n"
   ]
  },
  {
   "cell_type": "code",
   "execution_count": 8,
   "id": "d9aa2ed6",
   "metadata": {},
   "outputs": [
    {
     "name": "stdout",
     "output_type": "stream",
     "text": [
      "Shape of dataset: (6362620, 11)\n",
      "\n",
      "Data types:\n",
      " step                int64\n",
      "type               object\n",
      "amount            float64\n",
      "nameOrig           object\n",
      "oldbalanceOrg     float64\n",
      "newbalanceOrig    float64\n",
      "nameDest           object\n",
      "oldbalanceDest    float64\n",
      "newbalanceDest    float64\n",
      "isFraud             int64\n",
      "isFlaggedFraud      int64\n",
      "dtype: object\n",
      "\n",
      "Missing values:\n",
      " step              0\n",
      "type              0\n",
      "amount            0\n",
      "nameOrig          0\n",
      "oldbalanceOrg     0\n",
      "newbalanceOrig    0\n",
      "nameDest          0\n",
      "oldbalanceDest    0\n",
      "newbalanceDest    0\n",
      "isFraud           0\n",
      "isFlaggedFraud    0\n",
      "dtype: int64\n"
     ]
    }
   ],
   "source": [
    "print(\"Shape of dataset:\", df.shape)\n",
    "print(\"\\nData types:\\n\", df.dtypes)\n",
    "print(\"\\nMissing values:\\n\", df.isnull().sum())\n"
   ]
  },
  {
   "cell_type": "code",
   "execution_count": 9,
   "id": "37bdbd40",
   "metadata": {},
   "outputs": [
    {
     "data": {
      "text/html": [
       "<div>\n",
       "<style scoped>\n",
       "    .dataframe tbody tr th:only-of-type {\n",
       "        vertical-align: middle;\n",
       "    }\n",
       "\n",
       "    .dataframe tbody tr th {\n",
       "        vertical-align: top;\n",
       "    }\n",
       "\n",
       "    .dataframe thead th {\n",
       "        text-align: right;\n",
       "    }\n",
       "</style>\n",
       "<table border=\"1\" class=\"dataframe\">\n",
       "  <thead>\n",
       "    <tr style=\"text-align: right;\">\n",
       "      <th></th>\n",
       "      <th>step</th>\n",
       "      <th>amount</th>\n",
       "      <th>oldbalanceOrg</th>\n",
       "      <th>newbalanceOrig</th>\n",
       "      <th>oldbalanceDest</th>\n",
       "      <th>newbalanceDest</th>\n",
       "      <th>isFraud</th>\n",
       "      <th>isFlaggedFraud</th>\n",
       "    </tr>\n",
       "  </thead>\n",
       "  <tbody>\n",
       "    <tr>\n",
       "      <th>count</th>\n",
       "      <td>6.362620e+06</td>\n",
       "      <td>6.362620e+06</td>\n",
       "      <td>6.362620e+06</td>\n",
       "      <td>6.362620e+06</td>\n",
       "      <td>6.362620e+06</td>\n",
       "      <td>6.362620e+06</td>\n",
       "      <td>6.362620e+06</td>\n",
       "      <td>6.362620e+06</td>\n",
       "    </tr>\n",
       "    <tr>\n",
       "      <th>mean</th>\n",
       "      <td>2.433972e+02</td>\n",
       "      <td>1.798619e+05</td>\n",
       "      <td>8.338831e+05</td>\n",
       "      <td>8.551137e+05</td>\n",
       "      <td>1.100702e+06</td>\n",
       "      <td>1.224996e+06</td>\n",
       "      <td>1.290820e-03</td>\n",
       "      <td>2.514687e-06</td>\n",
       "    </tr>\n",
       "    <tr>\n",
       "      <th>std</th>\n",
       "      <td>1.423320e+02</td>\n",
       "      <td>6.038582e+05</td>\n",
       "      <td>2.888243e+06</td>\n",
       "      <td>2.924049e+06</td>\n",
       "      <td>3.399180e+06</td>\n",
       "      <td>3.674129e+06</td>\n",
       "      <td>3.590480e-02</td>\n",
       "      <td>1.585775e-03</td>\n",
       "    </tr>\n",
       "    <tr>\n",
       "      <th>min</th>\n",
       "      <td>1.000000e+00</td>\n",
       "      <td>0.000000e+00</td>\n",
       "      <td>0.000000e+00</td>\n",
       "      <td>0.000000e+00</td>\n",
       "      <td>0.000000e+00</td>\n",
       "      <td>0.000000e+00</td>\n",
       "      <td>0.000000e+00</td>\n",
       "      <td>0.000000e+00</td>\n",
       "    </tr>\n",
       "    <tr>\n",
       "      <th>25%</th>\n",
       "      <td>1.560000e+02</td>\n",
       "      <td>1.338957e+04</td>\n",
       "      <td>0.000000e+00</td>\n",
       "      <td>0.000000e+00</td>\n",
       "      <td>0.000000e+00</td>\n",
       "      <td>0.000000e+00</td>\n",
       "      <td>0.000000e+00</td>\n",
       "      <td>0.000000e+00</td>\n",
       "    </tr>\n",
       "    <tr>\n",
       "      <th>50%</th>\n",
       "      <td>2.390000e+02</td>\n",
       "      <td>7.487194e+04</td>\n",
       "      <td>1.420800e+04</td>\n",
       "      <td>0.000000e+00</td>\n",
       "      <td>1.327057e+05</td>\n",
       "      <td>2.146614e+05</td>\n",
       "      <td>0.000000e+00</td>\n",
       "      <td>0.000000e+00</td>\n",
       "    </tr>\n",
       "    <tr>\n",
       "      <th>75%</th>\n",
       "      <td>3.350000e+02</td>\n",
       "      <td>2.087215e+05</td>\n",
       "      <td>1.073152e+05</td>\n",
       "      <td>1.442584e+05</td>\n",
       "      <td>9.430367e+05</td>\n",
       "      <td>1.111909e+06</td>\n",
       "      <td>0.000000e+00</td>\n",
       "      <td>0.000000e+00</td>\n",
       "    </tr>\n",
       "    <tr>\n",
       "      <th>max</th>\n",
       "      <td>7.430000e+02</td>\n",
       "      <td>9.244552e+07</td>\n",
       "      <td>5.958504e+07</td>\n",
       "      <td>4.958504e+07</td>\n",
       "      <td>3.560159e+08</td>\n",
       "      <td>3.561793e+08</td>\n",
       "      <td>1.000000e+00</td>\n",
       "      <td>1.000000e+00</td>\n",
       "    </tr>\n",
       "  </tbody>\n",
       "</table>\n",
       "</div>"
      ],
      "text/plain": [
       "               step        amount  oldbalanceOrg  newbalanceOrig  \\\n",
       "count  6.362620e+06  6.362620e+06   6.362620e+06    6.362620e+06   \n",
       "mean   2.433972e+02  1.798619e+05   8.338831e+05    8.551137e+05   \n",
       "std    1.423320e+02  6.038582e+05   2.888243e+06    2.924049e+06   \n",
       "min    1.000000e+00  0.000000e+00   0.000000e+00    0.000000e+00   \n",
       "25%    1.560000e+02  1.338957e+04   0.000000e+00    0.000000e+00   \n",
       "50%    2.390000e+02  7.487194e+04   1.420800e+04    0.000000e+00   \n",
       "75%    3.350000e+02  2.087215e+05   1.073152e+05    1.442584e+05   \n",
       "max    7.430000e+02  9.244552e+07   5.958504e+07    4.958504e+07   \n",
       "\n",
       "       oldbalanceDest  newbalanceDest       isFraud  isFlaggedFraud  \n",
       "count    6.362620e+06    6.362620e+06  6.362620e+06    6.362620e+06  \n",
       "mean     1.100702e+06    1.224996e+06  1.290820e-03    2.514687e-06  \n",
       "std      3.399180e+06    3.674129e+06  3.590480e-02    1.585775e-03  \n",
       "min      0.000000e+00    0.000000e+00  0.000000e+00    0.000000e+00  \n",
       "25%      0.000000e+00    0.000000e+00  0.000000e+00    0.000000e+00  \n",
       "50%      1.327057e+05    2.146614e+05  0.000000e+00    0.000000e+00  \n",
       "75%      9.430367e+05    1.111909e+06  0.000000e+00    0.000000e+00  \n",
       "max      3.560159e+08    3.561793e+08  1.000000e+00    1.000000e+00  "
      ]
     },
     "execution_count": 9,
     "metadata": {},
     "output_type": "execute_result"
    }
   ],
   "source": [
    "# Descriptive stats\n",
    "df.describe()"
   ]
  },
  {
   "cell_type": "markdown",
   "id": "4e500a6d",
   "metadata": {},
   "source": [
    "## 2. Exploratory Data Analysis (EDA)\n",
    "We explore the dataset to understand its structure, spot anomalies, and identify patterns that may help in fraud detection.\n"
   ]
  },
  {
   "cell_type": "markdown",
   "id": "ed423360",
   "metadata": {},
   "source": [
    "##  Class Imbalance Analysis\n",
    "We examine the distribution of the target variable `isFraud` to understand how imbalanced the dataset is.\n"
   ]
  },
  {
   "cell_type": "code",
   "execution_count": 10,
   "id": "6bcab84a",
   "metadata": {},
   "outputs": [
    {
     "name": "stdout",
     "output_type": "stream",
     "text": [
      "isFraud\n",
      "0    6354407\n",
      "1       8213\n",
      "Name: count, dtype: int64\n",
      "isFraud\n",
      "0    99.870918\n",
      "1     0.129082\n",
      "Name: proportion, dtype: float64\n"
     ]
    },
    {
     "name": "stderr",
     "output_type": "stream",
     "text": [
      "C:\\Users\\Joya Parveen\\AppData\\Local\\Temp\\ipykernel_36664\\2971569249.py:14: FutureWarning: \n",
      "\n",
      "Passing `palette` without assigning `hue` is deprecated and will be removed in v0.14.0. Assign the `x` variable to `hue` and set `legend=False` for the same effect.\n",
      "\n",
      "  sns.barplot(x=fraud_counts.index, y=fraud_counts.values, palette='viridis')\n"
     ]
    },
    {
     "data": {
      "image/png": "[encoded data removed]",
      "text/plain": [
       "<Figure size 600x400 with 1 Axes>"
      ]
     },
     "metadata": {},
     "output_type": "display_data"
    }
   ],
   "source": [
    "import matplotlib.pyplot as plt\n",
    "import seaborn as sns\n",
    "\n",
    "# Count of fraud vs non-fraud\n",
    "fraud_counts = df['isFraud'].value_counts()\n",
    "print(fraud_counts)\n",
    "\n",
    "# Percentage distribution\n",
    "fraud_percent = df['isFraud'].value_counts(normalize=True) * 100\n",
    "print(fraud_percent)\n",
    "\n",
    "# Plot\n",
    "plt.figure(figsize=(6,4))\n",
    "sns.barplot(x=fraud_counts.index, y=fraud_counts.values, palette='viridis')\n",
    "plt.title(\"Distribution of Fraudulent vs Non-Fraudulent Transactions\")\n",
    "plt.xlabel(\"Is Fraud?\")\n",
    "plt.ylabel(\"Number of Transactions\")\n",
    "plt.xticks([0, 1], [\"No\", \"Yes\"])\n",
    "plt.show()\n"
   ]
  },
  {
   "cell_type": "code",
   "execution_count": 10,
   "id": "6ce328a1",
   "metadata": {},
   "outputs": [
    {
     "data": {
      "image/png": "[encoded data removed]",
      "text/plain": [
       "<Figure size 800x400 with 1 Axes>"
      ]
     },
     "metadata": {},
     "output_type": "display_data"
    }
   ],
   "source": [
    "plt.figure(figsize=(8,4))\n",
    "sns.histplot(df['amount'], bins=100, kde=True)\n",
    "plt.title(\"Transaction Amount Distribution\")\n",
    "plt.xlabel(\"Amount\")\n",
    "plt.ylabel(\"Frequency\")\n",
    "plt.xlim(0, df['amount'].quantile(0.99))  # Zoom in to remove extreme outliers\n",
    "plt.show()\n"
   ]
  },
  {
   "cell_type": "markdown",
   "id": "12093d37",
   "metadata": {},
   "source": [
    "### Class Imbalance Summary\n",
    "\n",
    "- **Fraudulent transactions**: 8,213 out of 6,362,620 → **0.13%**\n",
    "- **Non-fraudulent transactions**: 99.87%\n",
    "- This extreme imbalance can cause models to ignore the minority class unless handled properly.\n",
    "\n",
    "📌 **Next Steps**:\n",
    "- Use **class weights** in model training\n",
    "- Try **SMOTE** (Synthetic Minority Over-sampling Technique)\n",
    "- Evaluate using **precision, recall, F1-score**, and **ROC-AUC**\n"
   ]
  },
  {
   "cell_type": "markdown",
   "id": "73d2d4cc",
   "metadata": {},
   "source": [
    "##  Data Cleaning & Feature Engineering\n",
    "We prepare the dataset for modeling by removing irrelevant columns and encoding categorical variables.\n"
   ]
  },
  {
   "cell_type": "code",
   "execution_count": 11,
   "id": "492e5e00",
   "metadata": {},
   "outputs": [],
   "source": [
    "df = df.drop([\"nameOrig\", \"nameDest\"], axis=1)\n",
    "df = pd.get_dummies(df, columns=[\"type\"], drop_first=True)\n",
    "X = df.drop(\"isFraud\", axis=1)\n",
    "y = df[\"isFraud\"]\n"
   ]
  },
  {
   "cell_type": "markdown",
   "id": "38a34582",
   "metadata": {},
   "source": [
    "##  Train-Test Split\n",
    "We split the dataset into training and testing sets to evaluate model performance.\n"
   ]
  },
  {
   "cell_type": "code",
   "execution_count": 12,
   "id": "080ecfa0",
   "metadata": {},
   "outputs": [],
   "source": [
    "from sklearn.model_selection import train_test_split\n",
    "\n",
    "X_train, X_test, y_train, y_test = train_test_split(X, y, test_size=0.2, random_state=42)\n"
   ]
  },
  {
   "cell_type": "markdown",
   "id": "3b5dc837",
   "metadata": {},
   "source": [
    "## Handling Class Imbalance with SMOTE\n",
    "We apply SMOTE to oversample the minority class in the training set and balance the dataset.\n"
   ]
  },
  {
   "cell_type": "code",
   "execution_count": 13,
   "id": "3d653588",
   "metadata": {},
   "outputs": [
    {
     "name": "stdout",
     "output_type": "stream",
     "text": [
      "✅ After SMOTE:\n",
      "X_train shape: (10167006, 11)\n",
      "Class distribution:\n",
      " isFraud\n",
      "0    5083503\n",
      "1    5083503\n",
      "Name: count, dtype: int64\n"
     ]
    }
   ],
   "source": [
    "from imblearn.over_sampling import SMOTE\n",
    "\n",
    "smote = SMOTE(random_state=42)\n",
    "X_train_smote, y_train_smote = smote.fit_resample(X_train, y_train)\n",
    "\n",
    "print(\"✅ After SMOTE:\")\n",
    "print(\"X_train shape:\", X_train_smote.shape)\n",
    "print(\"Class distribution:\\n\", pd.Series(y_train_smote).value_counts())\n"
   ]
  },
  {
   "cell_type": "markdown",
   "id": "1d6f8735",
   "metadata": {},
   "source": [
    "##  Model Building & Training\n",
    "We train two Random Forest models:\n",
    "- One using SMOTE-balanced data\n",
    "- One using class weights to handle imbalance\n",
    "We'll compare their performance to choose the best.\n",
    "\n"
   ]
  },
  {
   "cell_type": "code",
   "execution_count": 14,
   "id": "88ee7e0f",
   "metadata": {},
   "outputs": [
    {
     "name": "stdout",
     "output_type": "stream",
     "text": [
      "🔹 SMOTE Model Accuracy: 0.9993626839258042\n",
      "🔹 SMOTE Classification Report:\n",
      "               precision    recall  f1-score   support\n",
      "\n",
      "           0       1.00      1.00      1.00   1270904\n",
      "           1       0.68      0.94      0.79      1620\n",
      "\n",
      "    accuracy                           1.00   1272524\n",
      "   macro avg       0.84      0.97      0.89   1272524\n",
      "weighted avg       1.00      1.00      1.00   1272524\n",
      "\n",
      "🔸 Weighted Model Accuracy: 0.9997005950378932\n",
      "🔸 Weighted Classification Report:\n",
      "               precision    recall  f1-score   support\n",
      "\n",
      "           0       1.00      1.00      1.00   1270904\n",
      "           1       0.98      0.78      0.87      1620\n",
      "\n",
      "    accuracy                           1.00   1272524\n",
      "   macro avg       0.99      0.89      0.93   1272524\n",
      "weighted avg       1.00      1.00      1.00   1272524\n",
      "\n"
     ]
    }
   ],
   "source": [
    "from sklearn.ensemble import RandomForestClassifier\n",
    "from sklearn.metrics import accuracy_score, classification_report\n",
    "\n",
    "# Faster Random Forest with SMOTE data\n",
    "model_smote = RandomForestClassifier(\n",
    "    n_estimators=10,        # Reduced number of trees\n",
    "    random_state=42,\n",
    "    n_jobs=-1               # Use all CPU cores\n",
    ")\n",
    "model_smote.fit(X_train_smote, y_train_smote)\n",
    "\n",
    "# Faster Random Forest with class weights\n",
    "model_weighted = RandomForestClassifier(\n",
    "    n_estimators=10,\n",
    "    class_weight='balanced',\n",
    "    random_state=42,\n",
    "    n_jobs=-1\n",
    ")\n",
    "model_weighted.fit(X_train, y_train)\n",
    "\n",
    "#  Quick evaluation\n",
    "y_pred_smote = model_smote.predict(X_test)\n",
    "y_pred_weighted = model_weighted.predict(X_test)\n",
    "\n",
    "print(\"🔹 SMOTE Model Accuracy:\", accuracy_score(y_test, y_pred_smote))\n",
    "print(\"🔹 SMOTE Classification Report:\\n\", classification_report(y_test, y_pred_smote))\n",
    "\n",
    "print(\"🔸 Weighted Model Accuracy:\", accuracy_score(y_test, y_pred_weighted))\n",
    "print(\"🔸 Weighted Classification Report:\\n\", classification_report(y_test, y_pred_weighted))\n"
   ]
  },
  {
   "cell_type": "code",
   "execution_count": null,
   "id": "f3fd962b",
   "metadata": {},
   "outputs": [
    {
     "name": "stdout",
     "output_type": "stream",
     "text": [
      "SMOTE Accuracy: 0.9994\n",
      "Class-weighted Accuracy: 0.9997\n"
     ]
    }
   ],
   "source": [
    "from sklearn.metrics import accuracy_score\n",
    "\n",
    "acc_smote = accuracy_score(y_test, y_pred_smote)\n",
    "acc_weighted = accuracy_score(y_test, y_pred_weighted)\n",
    "\n",
    "print(f\"SMOTE Accuracy: {acc_smote:.4f}\")\n",
    "print(f\"Class-weighted Accuracy: {acc_weighted:.4f}\")\n"
   ]
  },
  {
   "cell_type": "markdown",
   "id": "ba056683",
   "metadata": {},
   "source": [
    "## 📊 Model Comparison Summary\n",
    "\n",
    "We evaluated three modeling strategies to detect fraudulent transactions in a highly imbalanced dataset:\n",
    "\n",
    "### 1️⃣ SMOTE-Based Model\n",
    "\n",
    "### 2️⃣ Class-Weighted Model\n",
    "\n",
    "### 3️⃣ Ensemble Models (Boosting & Stacking)\n",
    "\n",
    "**Approach**:\n",
    "- **Boosting**: Used XGBoost and LightGBM to iteratively improve predictions.\n",
    "- **Stacking**: Combined multiple models (Random Forest, XGBoost) with Logistic Regression as a meta-learner.\n",
    "\n",
    "**Expected Benefits**:\n",
    "- Better generalization by combining strengths of multiple models.\n",
    "- Handles complex patterns and interactions well.\n",
    "\n",
    "\n"
   ]
  },
  {
   "cell_type": "code",
   "execution_count": null,
   "id": "cba551df",
   "metadata": {},
   "outputs": [
    {
     "name": "stderr",
     "output_type": "stream",
     "text": [
      "c:\\Users\\Joya Parveen\\anaconda3\\Lib\\site-packages\\xgboost\\training.py:183: UserWarning: [22:29:58] WARNING: C:\\actions-runner\\_work\\xgboost\\xgboost\\src\\learner.cc:738: \n",
      "Parameters: { \"use_label_encoder\" } are not used.\n",
      "\n",
      "  bst.update(dtrain, iteration=i, fobj=obj)\n"
     ]
    },
    {
     "name": "stdout",
     "output_type": "stream",
     "text": [
      "              precision    recall  f1-score   support\n",
      "\n",
      "           0       1.00      1.00      1.00   1270904\n",
      "           1       0.57      0.98      0.72      1620\n",
      "\n",
      "    accuracy                           1.00   1272524\n",
      "   macro avg       0.79      0.99      0.86   1272524\n",
      "weighted avg       1.00      1.00      1.00   1272524\n",
      "\n"
     ]
    }
   ],
   "source": [
    "from xgboost import XGBClassifier\n",
    "\n",
    "xgb = XGBClassifier(scale_pos_weight=100, use_label_encoder=False, eval_metric='logloss')\n",
    "xgb.fit(X_train, y_train)\n",
    "y_pred_xgb = xgb.predict(X_test)\n",
    "\n",
    "print(classification_report(y_test, y_pred_xgb))\n"
   ]
  },
  {
   "cell_type": "markdown",
   "id": "6d9b141e",
   "metadata": {},
   "source": [
    "# Select Important Features\n"
   ]
  },
  {
   "cell_type": "code",
   "execution_count": 15,
   "id": "690c2431",
   "metadata": {},
   "outputs": [],
   "source": [
    "import pandas as pd\n",
    "import matplotlib.pyplot as plt\n",
    "import seaborn as sns\n",
    "\n",
    "# Get importances\n",
    "importances_smote = model_smote.feature_importances_\n",
    "importances_weighted = model_weighted.feature_importances_\n",
    "features = X.columns\n",
    "\n",
    "# Create DataFrames\n",
    "df_smote = pd.DataFrame({'Feature': features, 'SMOTE Importance': importances_smote})\n",
    "df_weighted = pd.DataFrame({'Feature': features, 'Weighted Importance': importances_weighted})\n",
    "\n",
    "# Merge for side-by-side comparison\n",
    "feature_df = pd.merge(df_smote, df_weighted, on='Feature')\n",
    "feature_df.sort_values(by='Weighted Importance', ascending=False, inplace=True)\n"
   ]
  },
  {
   "cell_type": "code",
   "execution_count": null,
   "id": "665b2387",
   "metadata": {},
   "outputs": [
    {
     "data": {
      "image/png": "[encoded data removed]",
      "text/plain": [
       "<Figure size 1200x800 with 1 Axes>"
      ]
     },
     "metadata": {},
     "output_type": "display_data"
    }
   ],
   "source": [
    "plt.figure(figsize=(12, 8))\n",
    "sns.set_style(\"whitegrid\")\n",
    "\n",
    "# Plot\n",
    "sns.barplot(x='SMOTE Importance', y='Feature', data=feature_df, color='skyblue', label='SMOTE')\n",
    "sns.barplot(x='Weighted Importance', y='Feature', data=feature_df, color='salmon', label='Class-Weighted')\n",
    "\n",
    "plt.title(\"Feature Importance Comparison: SMOTE vs Class-Weighted\")\n",
    "plt.xlabel(\"Importance Score\")\n",
    "plt.legend(loc='lower right')\n",
    "plt.tight_layout()\n",
    "plt.show()\n"
   ]
  },
  {
   "cell_type": "markdown",
   "id": "c18631ad",
   "metadata": {},
   "source": [
    "## Evaluate Model Performance\n",
    "We'll use precision, recall, F1-score, and AUC-ROC.\n"
   ]
  },
  {
   "cell_type": "code",
   "execution_count": null,
   "id": "1ea29f50",
   "metadata": {},
   "outputs": [
    {
     "name": "stdout",
     "output_type": "stream",
     "text": [
      "🔍 SMOTE Model Performance:\n",
      "Precision: 0.6754, Recall: 0.9519, F1 Score: 0.7902, AUC-ROC: 0.9989\n",
      "\n",
      "⚖️ Class-Weighted Model Performance:\n",
      "Precision: 0.9868, Recall: 0.7858, F1 Score: 0.8749, AUC-ROC: 0.9946\n"
     ]
    }
   ],
   "source": [
    "from sklearn.metrics import precision_score, recall_score, f1_score, roc_auc_score, roc_curve\n",
    "# SMOTE model\n",
    "prec_smote = precision_score(y_test, y_pred_smote)\n",
    "rec_smote = recall_score(y_test, y_pred_smote)\n",
    "f1_smote = f1_score(y_test, y_pred_smote)\n",
    "auc_smote = roc_auc_score(y_test, y_probs_smote)\n",
    "\n",
    "# Class-weighted model\n",
    "prec_weighted = precision_score(y_test, y_pred_weighted)\n",
    "rec_weighted = recall_score(y_test, y_pred_weighted)\n",
    "f1_weighted = f1_score(y_test, y_pred_weighted)\n",
    "auc_weighted = roc_auc_score(y_test, y_probs_weighted)\n",
    "print(\"🔍 SMOTE Model Performance:\")\n",
    "print(f\"Precision: {prec_smote:.4f}, Recall: {rec_smote:.4f}, F1 Score: {f1_smote:.4f}, AUC-ROC: {auc_smote:.4f}\")\n",
    "\n",
    "print(\"\\n⚖️ Class-Weighted Model Performance:\")\n",
    "print(f\"Precision: {prec_weighted:.4f}, Recall: {rec_weighted:.4f}, F1 Score: {f1_weighted:.4f}, AUC-ROC: {auc_weighted:.4f}\")\n"
   ]
  },
  {
   "cell_type": "code",
   "execution_count": null,
   "id": "007e2eef",
   "metadata": {},
   "outputs": [
    {
     "data": {
      "image/png": "[encoded data removed]",
      "text/plain": [
       "<Figure size 800x600 with 1 Axes>"
      ]
     },
     "metadata": {},
     "output_type": "display_data"
    }
   ],
   "source": [
    "import matplotlib.pyplot as plt\n",
    "\n",
    "fpr_smote, tpr_smote, _ = roc_curve(y_test, y_probs_smote)\n",
    "fpr_weighted, tpr_weighted, _ = roc_curve(y_test, y_probs_weighted)\n",
    "\n",
    "plt.figure(figsize=(8, 6))\n",
    "plt.plot(fpr_smote, tpr_smote, label=f'SMOTE (AUC = {auc_smote:.2f})', color='skyblue')\n",
    "plt.plot(fpr_weighted, tpr_weighted, label=f'Class-Weighted (AUC = {auc_weighted:.2f})', color='salmon')\n",
    "plt.plot([0, 1], [0, 1], 'k--', label='Random Guess')\n",
    "plt.xlabel('False Positive Rate')\n",
    "plt.ylabel('True Positive Rate')\n",
    "plt.title('ROC Curve Comparison')\n",
    "plt.legend()\n",
    "plt.tight_layout()\n",
    "plt.show()\n"
   ]
  },
  {
   "cell_type": "markdown",
   "id": "8787d698",
   "metadata": {},
   "source": [
    "## Identify Key Predictive Features\n",
    "We'll list the top 5 features from our model.\n"
   ]
  },
  {
   "cell_type": "code",
   "execution_count": null,
   "id": "eb32bd75",
   "metadata": {},
   "outputs": [
    {
     "name": "stdout",
     "output_type": "stream",
     "text": [
      "           Feature  SMOTE Importance  Weighted Importance\n",
      "2    oldbalanceOrg          0.321713             0.313577\n",
      "3   newbalanceOrig          0.177842             0.181528\n",
      "1           amount          0.156942             0.157295\n",
      "10   type_TRANSFER          0.085733             0.087423\n",
      "9     type_PAYMENT          0.065342             0.061803\n"
     ]
    }
   ],
   "source": [
    "top_features = feature_df.head(5)\n",
    "print(top_features)\n"
   ]
  },
  {
   "cell_type": "markdown",
   "id": "b68d8510",
   "metadata": {},
   "source": [
    "##  Do These Factors Make Sense?\n",
    "Features like oldbalanceOrg and newbalanceOrig are directly tied to the account's financial state before and after a transaction. Sudden drops or inconsistencies between these balances can be clear indicators of unauthorized activity. The amount of the transaction is another critical factor, as fraudulent transactions often involve unusually high values or patterns that deviate from a user’s typical behavior.\n",
    "\n",
    "Additionally, the transaction type plays a key role. type_TRANSFER is inherently riskier than type_PAYMENT, since transfers often involve moving funds between accounts, which can be exploited in fraudulent schemes. Payments, while common, can still be suspicious depending on their frequency, timing, or amount.\n"
   ]
  },
  {
   "cell_type": "markdown",
   "id": "881099b2",
   "metadata": {},
   "source": [
    "##  Prevention Strategies\n",
    "- Implement multi-factor authentication\n",
    "- Monitor transactions in real-time\n",
    "- Use device fingerprinting\n",
    "- Educate employees and customers\n"
   ]
  },
  {
   "cell_type": "markdown",
   "id": "fbd65b0f",
   "metadata": {},
   "source": [
    "## Measure Effectiveness\n",
    "- Track fraud rate over time\n",
    "- Monitor precision/recall improvements\n",
    "- Conduct A/B testing with control groups\n"
   ]
  }
 ],
 "metadata": {
  "kernelspec": {
   "display_name": "base",
   "language": "python",
   "name": "python3"
  },
  "language_info": {
   "codemirror_mode": {
    "name": "ipython",
    "version": 3
   },
   "file_extension": ".py",
   "mimetype": "text/x-python",
   "name": "python",
   "nbconvert_exporter": "python",
   "pygments_lexer": "ipython3",
   "version": "3.12.4"
  }
 },
 "nbformat": 4,
 "nbformat_minor": 5
}
